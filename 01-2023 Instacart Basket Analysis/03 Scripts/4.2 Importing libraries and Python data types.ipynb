{
 "cells": [
  {
   "cell_type": "markdown",
   "id": "6cfa552b",
   "metadata": {},
   "source": [
    "# 01. Importing Libraries to Computer (Pandas and NumPy)"
   ]
  },
  {
   "cell_type": "code",
   "execution_count": 7,
   "id": "0ec6fdcc",
   "metadata": {},
   "outputs": [],
   "source": [
    "# Importing libraries to computer\n",
    "import pandas as pd\n",
    "import numpy as np\n",
    "import os"
   ]
  },
  {
   "cell_type": "markdown",
   "id": "2b8c886f",
   "metadata": {},
   "source": [
    "# 02. Examples of Multiple Data Types with Procedures"
   ]
  },
  {
   "cell_type": "markdown",
   "id": "8b2b80e8",
   "metadata": {},
   "source": [
    "## Step 7- Find three ways to add or subtract numeric variables to reach a result of 100"
   ]
  },
  {
   "cell_type": "code",
   "execution_count": 9,
   "id": "3258571d",
   "metadata": {},
   "outputs": [],
   "source": [
    "# Defining numeric variables so they can be added or subtracted to reach an output of 100\n",
    "x=50"
   ]
  },
  {
   "cell_type": "code",
   "execution_count": 19,
   "id": "6681d867",
   "metadata": {},
   "outputs": [],
   "source": [
    "y=25"
   ]
  },
  {
   "cell_type": "code",
   "execution_count": 21,
   "id": "7522271c",
   "metadata": {},
   "outputs": [
    {
     "data": {
      "text/plain": [
       "100"
      ]
     },
     "execution_count": 21,
     "metadata": {},
     "output_type": "execute_result"
    }
   ],
   "source": [
    "x+y+y"
   ]
  },
  {
   "cell_type": "code",
   "execution_count": 22,
   "id": "ddf039e9",
   "metadata": {},
   "outputs": [],
   "source": [
    "x=x+50"
   ]
  },
  {
   "cell_type": "code",
   "execution_count": 23,
   "id": "acb780b7",
   "metadata": {},
   "outputs": [
    {
     "name": "stdout",
     "output_type": "stream",
     "text": [
      "100\n"
     ]
    }
   ],
   "source": [
    "print(x)"
   ]
  },
  {
   "cell_type": "code",
   "execution_count": 25,
   "id": "288f409a",
   "metadata": {},
   "outputs": [
    {
     "data": {
      "text/plain": [
       "100"
      ]
     },
     "execution_count": 25,
     "metadata": {},
     "output_type": "execute_result"
    }
   ],
   "source": [
    "x+50-y-y"
   ]
  },
  {
   "cell_type": "code",
   "execution_count": 26,
   "id": "bfb47937",
   "metadata": {},
   "outputs": [
    {
     "data": {
      "text/plain": [
       "100"
      ]
     },
     "execution_count": 26,
     "metadata": {},
     "output_type": "execute_result"
    }
   ],
   "source": [
    "x-y+y"
   ]
  },
  {
   "cell_type": "markdown",
   "id": "4b18abd6",
   "metadata": {},
   "source": [
    "## Step 8- Create two floating point variables and divide them by each other"
   ]
  },
  {
   "cell_type": "code",
   "execution_count": 8,
   "id": "b9ee385e",
   "metadata": {},
   "outputs": [],
   "source": [
    "# Defining floating point variables so they can be divided by each other\n",
    "x=8.6"
   ]
  },
  {
   "cell_type": "code",
   "execution_count": 28,
   "id": "37ba33d8",
   "metadata": {},
   "outputs": [
    {
     "data": {
      "text/plain": [
       "float"
      ]
     },
     "execution_count": 28,
     "metadata": {},
     "output_type": "execute_result"
    }
   ],
   "source": [
    "type(x)"
   ]
  },
  {
   "cell_type": "code",
   "execution_count": 29,
   "id": "04f8b732",
   "metadata": {},
   "outputs": [],
   "source": [
    "y=2.2"
   ]
  },
  {
   "cell_type": "code",
   "execution_count": 30,
   "id": "0f00c3a4",
   "metadata": {},
   "outputs": [
    {
     "data": {
      "text/plain": [
       "float"
      ]
     },
     "execution_count": 30,
     "metadata": {},
     "output_type": "execute_result"
    }
   ],
   "source": [
    "type(y)"
   ]
  },
  {
   "cell_type": "code",
   "execution_count": 31,
   "id": "12d83c18",
   "metadata": {},
   "outputs": [
    {
     "data": {
      "text/plain": [
       "3.9090909090909087"
      ]
     },
     "execution_count": 31,
     "metadata": {},
     "output_type": "execute_result"
    }
   ],
   "source": [
    "x/y"
   ]
  },
  {
   "cell_type": "markdown",
   "id": "f4a5d282",
   "metadata": {},
   "source": [
    "## Step 9- Create a short word made of seperate strings"
   ]
  },
  {
   "cell_type": "code",
   "execution_count": 10,
   "id": "2bb5a8d7",
   "metadata": {},
   "outputs": [],
   "source": [
    "# Defining each string with short words to combine into one big word\n",
    "a='Big'"
   ]
  },
  {
   "cell_type": "code",
   "execution_count": 33,
   "id": "ea698acf",
   "metadata": {},
   "outputs": [],
   "source": [
    "b='foot'"
   ]
  },
  {
   "cell_type": "code",
   "execution_count": 34,
   "id": "950d04ac",
   "metadata": {},
   "outputs": [
    {
     "data": {
      "text/plain": [
       "'Bigfoot'"
      ]
     },
     "execution_count": 34,
     "metadata": {},
     "output_type": "execute_result"
    }
   ],
   "source": [
    "a+b"
   ]
  },
  {
   "cell_type": "markdown",
   "id": "34d18170",
   "metadata": {},
   "source": [
    "## Step 10- Create two short sentences made of seperate strings"
   ]
  },
  {
   "cell_type": "code",
   "execution_count": 11,
   "id": "439e0c4c",
   "metadata": {},
   "outputs": [],
   "source": [
    "# Defining each section of a sentence to combine into a normal sentence\n",
    "a= 'My favorite sports to watch are '"
   ]
  },
  {
   "cell_type": "code",
   "execution_count": 55,
   "id": "6609a77f",
   "metadata": {},
   "outputs": [],
   "source": [
    "b= 'football, hockey, and baseball.'"
   ]
  },
  {
   "cell_type": "code",
   "execution_count": 56,
   "id": "f47c23bc",
   "metadata": {},
   "outputs": [
    {
     "data": {
      "text/plain": [
       "'My favorite sports to watch are football, hockey, and baseball.'"
      ]
     },
     "execution_count": 56,
     "metadata": {},
     "output_type": "execute_result"
    }
   ],
   "source": [
    "a+b"
   ]
  },
  {
   "cell_type": "code",
   "execution_count": 57,
   "id": "a749a13e",
   "metadata": {},
   "outputs": [],
   "source": [
    "c= 'John went to the gym '"
   ]
  },
  {
   "cell_type": "code",
   "execution_count": 58,
   "id": "9dd0e54d",
   "metadata": {},
   "outputs": [],
   "source": [
    "d= 'and did some cardio.'"
   ]
  },
  {
   "cell_type": "code",
   "execution_count": 59,
   "id": "2fac7dbe",
   "metadata": {},
   "outputs": [
    {
     "data": {
      "text/plain": [
       "'John went to the gym and did some cardio.'"
      ]
     },
     "execution_count": 59,
     "metadata": {},
     "output_type": "execute_result"
    }
   ],
   "source": [
    "c+d"
   ]
  }
 ],
 "metadata": {
  "kernelspec": {
   "display_name": "Python 3 (ipykernel)",
   "language": "python",
   "name": "python3"
  },
  "language_info": {
   "codemirror_mode": {
    "name": "ipython",
    "version": 3
   },
   "file_extension": ".py",
   "mimetype": "text/x-python",
   "name": "python",
   "nbconvert_exporter": "python",
   "pygments_lexer": "ipython3",
   "version": "3.9.13"
  }
 },
 "nbformat": 4,
 "nbformat_minor": 5
}
